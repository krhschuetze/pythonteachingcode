{
 "cells": [
  {
   "attachments": {},
   "cell_type": "markdown",
   "metadata": {},
   "source": [
    "\n",
    "#  Module 1 Required Coding Activity  \n",
    "\n",
    "Be sure to complete the tutorials and practice prior to attempting this activity.    \n",
    "\n",
    "| Important Assignment Requirements |  \n",
    "|:-------------------------------|  \n",
    "|  **NOTE:** This program **requires** a function, **`print`** output and using code syntax used in module 1 such as keywords **`for`**/**`in`** (iteration), **`input`**, **`if`**, **`else`**, **`.isalpha()`** method, **`.lower()`** or **`.upper()`** method. Also, ensure you include your full name in the prompt. See the sample input for more detail. |  \n",
    "\n",
    "\n",
    "## Program: Words after \"G\"/\"g\"\n",
    "Create a program inputs a phrase (like a famous quotation) and prints all of the words that start with h-z\n",
    "\n",
    "Sample input:  \n",
    "`Welcome, [YOUR NAME GOES HERE]. Enter a 1 sentence quote, non-alpha separate words:` **`Wheresoever you go, go with all your heart`**  \n",
    "\n",
    "Sample output:\n",
    "```\n",
    "WHERESOEVER\n",
    "YOU\n",
    "WITH\n",
    "YOUR\n",
    "HEART\n",
    "```  \n",
    "![words_after_g flowchart](images/words_after_gG.png) \n",
    "\n",
    "- split the words by building a placeholder variable: **`word`**  \n",
    "  - loop each character in the input string  \n",
    "  - check if character is a letter  \n",
    "  - add a letter to **`word`** each loop until a non-alpha char is encountered  \n",
    "\n",
    "- **if** character is alpha \n",
    "  - add character to **`word`**    \n",
    "  - non-alpha detected (space, punctuation, digit,...) defines the end of a word and goes to **`else`**    \n",
    "- **`else`**  \n",
    "  - check **`if`** word is greater than \"g\" alphabetically\n",
    "      - print word \n",
    "      - set word = empty string\n",
    "  - or **else** \n",
    "    - set word = empty string and build the next word  \n",
    "\n",
    "Hint: use `.lower()`\n",
    "\n",
    "Consider how you will print the last word if it doesn't end with a non-alpha character like a space or punctuation?\n",
    "\n"
   ]
  },
  {
   "cell_type": "code",
   "execution_count": 43,
   "metadata": {
    "collapsed": true
   },
   "outputs": [
    {
     "name": "stdout",
     "output_type": "stream",
     "text": [
      "w\n",
      "wh\n",
      "whe\n",
      "wher\n",
      "where\n",
      "wheres\n",
      "whereso\n",
      "wheresoe\n",
      "wheresoev\n",
      "wheresoeve\n",
      "wheresoever\n",
      "wheresoever\n",
      "y\n",
      "yo\n",
      "you\n",
      "you\n",
      "g\n",
      "go\n"
     ]
    },
    {
     "ename": "IndexError",
     "evalue": "string index out of range",
     "output_type": "error",
     "traceback": [
      "\u001b[1;31m---------------------------------------------------------------------------\u001b[0m",
      "\u001b[1;31mIndexError\u001b[0m                                Traceback (most recent call last)",
      "\u001b[1;32mc:\\Users\\Kathryn\\Documents\\GitHub\\pythonteachingcode\\Python Fundamentals\\Module_1.2_Required_Code_Python_Fundamentals.ipynb Cell 2\u001b[0m line \u001b[0;36m1\n\u001b[0;32m     <a href='vscode-notebook-cell:/c%3A/Users/Kathryn/Documents/GitHub/pythonteachingcode/Python%20Fundamentals/Module_1.2_Required_Code_Python_Fundamentals.ipynb#W1sZmlsZQ%3D%3D?line=12'>13</a>\u001b[0m     \u001b[39mpass\u001b[39;00m\n\u001b[0;32m     <a href='vscode-notebook-cell:/c%3A/Users/Kathryn/Documents/GitHub/pythonteachingcode/Python%20Fundamentals/Module_1.2_Required_Code_Python_Fundamentals.ipynb#W1sZmlsZQ%3D%3D?line=13'>14</a>\u001b[0m \u001b[39melse\u001b[39;00m:\n\u001b[1;32m---> <a href='vscode-notebook-cell:/c%3A/Users/Kathryn/Documents/GitHub/pythonteachingcode/Python%20Fundamentals/Module_1.2_Required_Code_Python_Fundamentals.ipynb#W1sZmlsZQ%3D%3D?line=14'>15</a>\u001b[0m     \u001b[39mif\u001b[39;00m word[\u001b[39m0\u001b[39;49m] \u001b[39m>\u001b[39m \u001b[39m'\u001b[39m\u001b[39mg\u001b[39m\u001b[39m'\u001b[39m:\n\u001b[0;32m     <a href='vscode-notebook-cell:/c%3A/Users/Kathryn/Documents/GitHub/pythonteachingcode/Python%20Fundamentals/Module_1.2_Required_Code_Python_Fundamentals.ipynb#W1sZmlsZQ%3D%3D?line=15'>16</a>\u001b[0m         \u001b[39mprint\u001b[39m(word)\n\u001b[0;32m     <a href='vscode-notebook-cell:/c%3A/Users/Kathryn/Documents/GitHub/pythonteachingcode/Python%20Fundamentals/Module_1.2_Required_Code_Python_Fundamentals.ipynb#W1sZmlsZQ%3D%3D?line=16'>17</a>\u001b[0m         word \u001b[39m=\u001b[39m \u001b[39m\"\u001b[39m\u001b[39m\"\u001b[39m\n",
      "\u001b[1;31mIndexError\u001b[0m: string index out of range"
     ]
    }
   ],
   "source": [
    "# [] create words after \"G\" following the Assignment requirements use of functions, methods and kwyowrds\n",
    "\n",
    "quote = \"\\\"Wheresoever you go, go with all your heart\\\" ~ Confucius (551 BC - 479 BC)\"\n",
    "quote = input('Welcome, KRHS. Enter a 1 sentence quote, non-alpha separate words:' )\n",
    "\n",
    "word = \"\"\n",
    "for character in quote.lower():\n",
    "    if character.isalpha():\n",
    "        word += character\n",
    "    elif word != \"\" and word[0] >= 'h':\n",
    "        print(word.upper())\n",
    "        word = \"\"\n",
    "    else:\n",
    "        word = \"\""
   ]
  },
  {
   "cell_type": "markdown",
   "metadata": {},
   "source": [
    "Submit this by creating a python file (.py) and submitting it in D2L. Be sure to test that it works. "
   ]
  }
 ],
 "metadata": {
  "anaconda-cloud": {},
  "kernelspec": {
   "display_name": "Python 3",
   "language": "python",
   "name": "python3"
  },
  "language_info": {
   "codemirror_mode": {
    "name": "ipython",
    "version": 3
   },
   "file_extension": ".py",
   "mimetype": "text/x-python",
   "name": "python",
   "nbconvert_exporter": "python",
   "pygments_lexer": "ipython3",
   "version": "3.11.4"
  }
 },
 "nbformat": 4,
 "nbformat_minor": 1
}
