{
  "cells": [
    {
      "attachments": {},
      "cell_type": "markdown",
      "metadata": {
        "collapsed": true
      },
      "source": [
        "#  Module 3 Required Coding Activity  \n",
        "Introduction to Python Unit 1 \n",
        "\n",
        "This is an activity based on code similar to the Jupyter Notebook **`Practice_MOD03_1-4_IntroPy.ipynb`** and **`Practice_MOD03_1-5_IntroPy.ipynb`** which you may have completed as practice.\n",
        "\n",
        ">This program requires the use of **`if, elif, else`**, and casting between strings and numbers. The program should use the various code syntax covered in module 3.  \n",
        "> \n",
        ">The program must result in print output using numeric input similar to that shown in the sample below.\n",
        ">You must include your full name in the input prompt. See sample input below for more detail.\n",
        "\n",
        "## Program: Cheese Order Function   \n",
        "- define function with max, min, price, and order_amount parameters\n",
        "- set default values for maximum and minimum order parameters  \n",
        "- set default value for price parameter\n",
        "- cast order_amount and other arguments to numbers  \n",
        "- check order_amount and give message checking against  \n",
        "  - over maximum\n",
        "  - under minimum\n",
        "- else within maximum and minimum give message with calculated price \n",
        "- call your function using order weight input from user\n",
        "\n",
        "\n",
        "Sample input and output:\n",
        "```\n",
        "[YOUR FULL NAME GOES HERE], enter cheese order weight (numeric value): 113\n",
        "113.0 is more than currently available stock\n",
        "```\n",
        "\n",
        "```\n",
        "[YOUR FULL NAME GOES HERE], enter cheese order weight (numeric value): .15\n",
        "0.15 is below minimum order amount\n",
        "```  \n",
        "\n",
        "```\n",
        "[YOUR FULL NAME GOES HERE], enter cheese order weight (numeric value): 2\n",
        "2.0 costs $15.98\n",
        "```  "
      ]
    },
    {
      "cell_type": "code",
      "execution_count": 1,
      "metadata": {
        "trusted": false
      },
      "outputs": [
        {
          "name": "stdout",
          "output_type": "stream",
          "text": [
            "Cheese Order Form.\n",
            "98 costs $511.56\n",
            "Cheese Order Form.\n",
            "9 costs $46.98\n",
            "Cheese Order Form.\n",
            "(567, 'is more than currently available stock')\n",
            "Cheese Order Form.\n",
            "76 costs $396.71999999999997\n",
            "Cheese Order Form.\n",
            "(6790, 'is more than currently available stock')\n",
            "Cheese Order Form.\n",
            "(-67, 'is below minimum order amount')\n",
            "Cheese Order Form.\n",
            "Input must be a numeric value.\n",
            "Cheese Order Form.\n",
            "Input must be a numeric value.\n",
            "Cheese Order Form.\n",
            "Input must be a numeric value.\n",
            "Cheese Order Form.\n",
            "Input must be a numeric value.\n",
            "Cheese Order Form.\n"
          ]
        }
      ],
      "source": [
        "# [ ] create fucntion, call and test \n",
        "def cheese_order(order_amount_input, max = int(420.0), min = int(0), price = float(5.22)): # Cast all defaults to numbers (float)\n",
        "    order_amount = int(order_amount_input)\n",
        "    if (order_amount > max):\n",
        "        return order_amount, \"is more than currently available stock\"\n",
        "    elif (order_amount < min):\n",
        "        return order_amount, \"is below minimum order amount\"\n",
        "    else:\n",
        "        return str(order_amount) + \" costs $\" + str(price * order_amount)\n",
        "\n",
        "while(True):\n",
        "    print(\"Cheese Order Form.\")\n",
        "    order_weight = input(' enter cheese order weight (numeric value): ')\n",
        "    if (order_weight == \"<Escape>\"): break\n",
        "    try:\n",
        "        print(cheese_order(order_weight))\n",
        "    except:\n",
        "        print(\"Input must be a numeric value.\")\n",
        "\n",
        "\n",
        "    "
      ]
    },
    {
      "cell_type": "markdown",
      "metadata": {},
      "source": [
        "Submit this by creating a python file (.py) and submitting it in D2L. Be sure to test that it works."
      ]
    }
  ],
  "metadata": {
    "kernelspec": {
      "display_name": "Python 3",
      "language": "python",
      "name": "python3"
    },
    "language_info": {
      "codemirror_mode": {
        "name": "ipython",
        "version": 3
      },
      "file_extension": ".py",
      "mimetype": "text/x-python",
      "name": "python",
      "nbconvert_exporter": "python",
      "pygments_lexer": "ipython3",
      "version": "3.11.4"
    }
  },
  "nbformat": 4,
  "nbformat_minor": 1
}
